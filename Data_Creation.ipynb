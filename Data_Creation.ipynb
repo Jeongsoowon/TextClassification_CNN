{
 "cells": [
  {
   "cell_type": "code",
   "execution_count": 1,
   "metadata": {},
   "outputs": [],
   "source": [
    "import pandas as pd"
   ]
  },
  {
   "cell_type": "code",
   "execution_count": 2,
   "metadata": {},
   "outputs": [],
   "source": [
    "PreparedNF = pd.read_excel('/Users/waterpurifier/TextClassification_CNN/NegativeDict.xlsx')"
   ]
  },
  {
   "cell_type": "code",
   "execution_count": 11,
   "metadata": {},
   "outputs": [
    {
     "data": {
      "text/plain": [
       "0       질싸하지마라\n",
       "1          떡쳐라\n",
       "2       성매매하는게\n",
       "3       미친새끼진짜\n",
       "4        믿는새끼는\n",
       "         ...  \n",
       "3809    아씨발게이야\n",
       "3810       탈짱깨\n",
       "3811    존나높은거지\n",
       "3812      따먹는거\n",
       "3813       짱깨가\n",
       "Name: 0, Length: 3814, dtype: object"
      ]
     },
     "execution_count": 11,
     "metadata": {},
     "output_type": "execute_result"
    }
   ],
   "source": [
    "PreparedNF[0]"
   ]
  },
  {
   "cell_type": "code",
   "execution_count": 13,
   "metadata": {},
   "outputs": [
    {
     "data": {
      "text/plain": [
       "[]"
      ]
     },
     "execution_count": 13,
     "metadata": {},
     "output_type": "execute_result"
    }
   ],
   "source": [
    "Text = '나는 [CLS1] [CLS2]'\n",
    "Text = [i for i in Text if i == '[CLS1]']\n",
    "Text"
   ]
  }
 ],
 "metadata": {
  "kernelspec": {
   "display_name": "LngPurifier",
   "language": "python",
   "name": "lngpurifier"
  },
  "language_info": {
   "codemirror_mode": {
    "name": "ipython",
    "version": 3
   },
   "file_extension": ".py",
   "mimetype": "text/x-python",
   "name": "python",
   "nbconvert_exporter": "python",
   "pygments_lexer": "ipython3",
   "version": "3.7.6"
  }
 },
 "nbformat": 4,
 "nbformat_minor": 4
}
