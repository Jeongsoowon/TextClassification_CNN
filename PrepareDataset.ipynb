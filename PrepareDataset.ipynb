{
 "cells": [
  {
   "cell_type": "code",
   "execution_count": 40,
   "metadata": {},
   "outputs": [
    {
     "name": "stdout",
     "output_type": "stream",
     "text": [
      "['$*#wjdtn! 안녕*@#&$', 'hello! 반가워! ^ㅁ^', '하이!ㅋㅋ', '하이!ㅋㅋㅋㅋㅋㅋㅋㅋㅋㅋ']\n",
      "----------------------------------------------\n",
      "1. 영어, 특수문자 제거 :\n",
      "               0\n",
      "0            안녕\n",
      "1       반가워 ^ㅁ^\n",
      "2          하이ㅋㅋ\n",
      "3  하이ㅋㅋㅋㅋㅋㅋㅋㅋㅋㅋ\n",
      "----------------------------------------------\n",
      "2. 노이즈 제거 : \n",
      "          0\n",
      "0       안녕\n",
      "1  반가워 ^ㅁ^\n",
      "2     하이ㅋㅋ\n",
      "3     하이ㅋㅋ\n",
      "----------------------------------------------\n",
      "3. 중복 제거 : \n",
      "          0\n",
      "0       안녕\n",
      "1  반가워 ^ㅁ^\n",
      "2     하이ㅋㅋ\n",
      "----------------------------------------------\n",
      "\n",
      "\n",
      "----------------------------------------------\n",
      "train dataset : \n",
      "          0\n",
      "2     하이ㅋㅋ\n",
      "1  반가워 ^ㅁ^\n",
      "----------------------------------------------\n",
      "test dataset : \n",
      "     0\n",
      "0  안녕\n"
     ]
    }
   ],
   "source": [
    "import re\n",
    "import sys\n",
    "import numpy as np\n",
    "import os\n",
    "import pandas as pd\n",
    "from soynlp.normalizer import repeat_normalize\n",
    "from sklearn.model_selection import train_test_split\n",
    "\n",
    "data = ['$*#wjdtn! 안녕*@#&$', 'hello! 반가워! ^ㅁ^', '하이!ㅋㅋ', '하이!ㅋㅋㅋㅋㅋㅋㅋㅋㅋㅋ']\n",
    "Data = pd.DataFrame(data)\n",
    "\n",
    "print(data)\n",
    "# 영어, 특수문자 제거\n",
    "def remove_eng(comment):\n",
    "    new = []\n",
    "    for i in comment:\n",
    "        # '^^ㅣ발' 같은 욕설이 존재하므로, '^' 제거하지 않았다.\n",
    "        tmp = re.sub('[^ ^0-9ㄱ-ㅣ가-힣]+','',i)\n",
    "        new.append(tmp)\n",
    "    return new\n",
    "\n",
    "Data[0] = remove_eng(Data[0])\n",
    "print('----------------------------------------------')\n",
    "print('1. 영어, 특수문자 제거 :\\n', Data)\n",
    "\n",
    "# 노이즈(반복 단어) 제거\n",
    "Data[0] = [repeat_normalize(i, num_repeats = 2) for i in Data[0]]\n",
    "print('----------------------------------------------')\n",
    "print(\"2. 노이즈 제거 : \\n\", Data)\n",
    "\n",
    "\n",
    "# 중복데이터 제거\n",
    "Data = Data.drop_duplicates()\n",
    "print('----------------------------------------------')\n",
    "print(\"3. 중복 제거 : \\n\", Data)\n",
    "print('----------------------------------------------\\n\\n')\n",
    "\n",
    "# train, test data set split, test_size : train dataset 과 test dataset의 비율, random_state -> seed\n",
    "train_dataset, test_dataset = train_test_split(Data, test_size = 0.3, random_state=8452)\n",
    "print('----------------------------------------------')\n",
    "print('train dataset : \\n', train_dataset)\n",
    "print('----------------------------------------------')\n",
    "print('test dataset : \\n', test_dataset)"
   ]
  }
 ],
 "metadata": {
  "kernelspec": {
   "display_name": "LngPurifier",
   "language": "python",
   "name": "lngpurifier"
  },
  "language_info": {
   "codemirror_mode": {
    "name": "ipython",
    "version": 3
   },
   "file_extension": ".py",
   "mimetype": "text/x-python",
   "name": "python",
   "nbconvert_exporter": "python",
   "pygments_lexer": "ipython3",
   "version": "3.7.6"
  }
 },
 "nbformat": 4,
 "nbformat_minor": 4
}
