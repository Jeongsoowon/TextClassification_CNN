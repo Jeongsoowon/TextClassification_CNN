{
 "cells": [
  {
   "cell_type": "code",
   "execution_count": 1,
   "metadata": {},
   "outputs": [],
   "source": [
    "import gluonnlp as nlp\n",
    "from torch.utils.data import Dataset\n",
    "import numpy as np\n",
    "from kobert.utils import get_tokenizer\n",
    "from kobert.pytorch_kobert import get_pytorch_kobert_model\n",
    "from gluonnlp.data import SentencepieceTokenizer\n",
    "import pandas as pd\n",
    "\n",
    "from tensorflow.keras.models import Sequential, Model\n",
    "from tensorflow.keras.layers import Embedding, Dropout, Conv1D, GlobalMaxPooling1D, Dense,Input, Flatten, Concatenate\n",
    "from tensorflow.keras.callbacks import EarlyStopping, ModelCheckpoint\n",
    "from tensorflow.keras.models import load_model\n",
    "from tensorflow.keras.preprocessing.sequence import pad_sequences"
   ]
  },
  {
   "cell_type": "code",
   "execution_count": 2,
   "metadata": {},
   "outputs": [
    {
     "name": "stderr",
     "output_type": "stream",
     "text": [
      "Some weights of the model checkpoint at monologg/koelectra-base-v3-discriminator were not used when initializing ElectraModel: ['electra.embeddings.position_ids']\n",
      "- This IS expected if you are initializing ElectraModel from the checkpoint of a model trained on another task or with another architecture (e.g. initializing a BertForSequenceClassification model from a BertForPretraining model).\n",
      "- This IS NOT expected if you are initializing ElectraModel from the checkpoint of a model that you expect to be exactly identical (initializing a BertForSequenceClassification model from a BertForSequenceClassification model).\n"
     ]
    }
   ],
   "source": [
    "from transformers import ElectraModel, ElectraTokenizer\n",
    "\n",
    "model = ElectraModel.from_pretrained(\"monologg/koelectra-base-v3-discriminator\")\n",
    "tokenizer = ElectraTokenizer.from_pretrained(\"monologg/koelectra-base-v3-discriminator\")\n"
   ]
  },
  {
   "cell_type": "code",
   "execution_count": 3,
   "metadata": {},
   "outputs": [],
   "source": [
    "dataset_train = pd.read_csv('/Users/waterpurifier/TextClassification_CNN/prepared_train.txt', sep='\\t')\n",
    "dataset_test = pd.read_csv('/Users/waterpurifier/TextClassification_CNN/prepared_test.txt', sep='\\t')\n",
    "\n",
    "class ElectraDataset():\n",
    "    def __init__(self, dataset_sentence, dataset_label, max_len):\n",
    "        self.sentences = []\n",
    "        for i in dataset_sentence:\n",
    "            temp = []\n",
    "            tokenid = tokenizer.convert_tokens_to_ids(tokenizer.tokenize(i))\n",
    "            #tokenidToint = [int(i) for i in tokenid]\n",
    "            temp.append(tokenid)\n",
    "            temp = pad_sequences(temp, maxlen = max_len)\n",
    "            temp = [int(i) for i in temp[0]]\n",
    "            self.sentences.append(temp)\n",
    "            \n",
    "        self.labels = [i for i in dataset_label]\n",
    "        \n",
    "        \n",
    "max_len = 50\n",
    "vocab_size = 35000 # KoElectra-Base-v3 vocab size : 35000\n",
    "\n",
    "data_train = ElectraDataset(dataset_train['comment'], dataset_train['label'], max_len)\n",
    "data_test = ElectraDataset(dataset_test['comment'], dataset_test['label'], max_len)\n",
    "\n",
    "embedding_dim = 64\n",
    "dropout_prob = (0.5, 0.8)\n",
    "num_filters = 32\n",
    "\n",
    "model_input = Input(shape = (max_len,))\n",
    "z = Embedding(vocab_size, embedding_dim, input_length = max_len, name=\"embedding\")(model_input)\n",
    "z = Dropout(dropout_prob[0])(z)\n",
    "\n",
    "conv_blocks = []\n",
    "\n",
    "for sz in [3, 4, 5]:\n",
    "    conv = Conv1D(filters = num_filters,\n",
    "                  kernel_size = sz,\n",
    "                  padding = \"valid\",\n",
    "                  activation = \"relu\", \n",
    "                  strides = 1)(z)\n",
    "    conv = GlobalMaxPooling1D()(conv)\n",
    "    conv = Flatten()(conv)\n",
    "    conv_blocks.append(conv)\n",
    "    \n",
    "z = Concatenate()(conv_blocks) if len(conv_blocks) > 1 else conv_blocks[0]\n",
    "z = Dropout(dropout_prob[1])(z)\n",
    "z = Dense(128, activation=\"relu\")(z)\n",
    "model_output = Dense(1, activation=\"sigmoid\")(z) # , activation=\"softmax\"\n",
    "model = Model(model_input, model_output)"
   ]
  },
  {
   "cell_type": "code",
   "execution_count": 120,
   "metadata": {},
   "outputs": [
    {
     "name": "stdout",
     "output_type": "stream",
     "text": [
      "Epoch 1/10\n",
      "\n",
      "Epoch 00001: val_acc improved from -inf to 0.90217, saving model to /Users/waterpurifier/CNN2.h5\n",
      "439/439 - 12s - loss: 0.4620 - acc: 0.7929 - val_loss: 0.2826 - val_acc: 0.9022\n",
      "Epoch 2/10\n",
      "\n",
      "Epoch 00002: val_acc improved from 0.90217 to 0.91315, saving model to /Users/waterpurifier/CNN2.h5\n",
      "439/439 - 11s - loss: 0.2708 - acc: 0.9022 - val_loss: 0.2454 - val_acc: 0.9131\n",
      "Epoch 3/10\n",
      "\n",
      "Epoch 00003: val_acc improved from 0.91315 to 0.91700, saving model to /Users/waterpurifier/CNN2.h5\n",
      "439/439 - 11s - loss: 0.2350 - acc: 0.9150 - val_loss: 0.2444 - val_acc: 0.9170\n",
      "Epoch 4/10\n",
      "\n",
      "Epoch 00004: val_acc did not improve from 0.91700\n",
      "439/439 - 11s - loss: 0.2093 - acc: 0.9253 - val_loss: 0.2378 - val_acc: 0.9159\n",
      "Epoch 5/10\n",
      "\n",
      "Epoch 00005: val_acc improved from 0.91700 to 0.91771, saving model to /Users/waterpurifier/CNN2.h5\n",
      "439/439 - 11s - loss: 0.1933 - acc: 0.9308 - val_loss: 0.2436 - val_acc: 0.9177\n",
      "Epoch 6/10\n",
      "\n",
      "Epoch 00006: val_acc did not improve from 0.91771\n",
      "439/439 - 11s - loss: 0.1820 - acc: 0.9345 - val_loss: 0.2485 - val_acc: 0.9146\n",
      "Epoch 7/10\n",
      "\n",
      "Epoch 00007: val_acc did not improve from 0.91771\n",
      "439/439 - 11s - loss: 0.1650 - acc: 0.9419 - val_loss: 0.2474 - val_acc: 0.9146\n",
      "Epoch 8/10\n",
      "\n",
      "Epoch 00008: val_acc did not improve from 0.91771\n",
      "439/439 - 11s - loss: 0.1559 - acc: 0.9441 - val_loss: 0.2464 - val_acc: 0.9141\n",
      "Epoch 00008: early stopping\n"
     ]
    }
   ],
   "source": [
    "model.compile(loss=\"binary_crossentropy\", optimizer=\"adam\", metrics=[\"acc\"]) \n",
    "\n",
    "es = EarlyStopping(monitor='val_loss', mode='min', verbose=1, patience=4)\n",
    "mc = ModelCheckpoint('/Users/waterpurifier/CNN2.h5', monitor='val_acc', mode='max', verbose=1, save_best_only=True)\n",
    "\n",
    "history_CNN = model.fit(data_train.sentences, data_train.labels, batch_size = 64, epochs=10, validation_data = (data_test.sentences, data_test.labels), verbose=2, callbacks=[es, mc])"
   ]
  },
  {
   "cell_type": "code",
   "execution_count": 121,
   "metadata": {},
   "outputs": [
    {
     "name": "stdout",
     "output_type": "stream",
     "text": [
      "220/220 [==============================] - 0s 1ms/step - loss: 0.2464 - acc: 0.9141\n",
      "\n",
      " 테스트 정확도 : 0.9141\n"
     ]
    }
   ],
   "source": [
    "model.save('/Users/waterpurifier/CNN2.h5')\n",
    "loaded_model_CNN = load_model('/Users/waterpurifier/CNN2.h5')\n",
    "print('\\n 테스트 정확도 : %.4f' %(loaded_model_CNN.evaluate(data_test.sentences, data_test.labels)[1]))"
   ]
  },
  {
   "cell_type": "code",
   "execution_count": 122,
   "metadata": {},
   "outputs": [
    {
     "data": {
      "image/png": "[encoded data removed]",
      "text/plain": [
       "<Figure size 432x288 with 1 Axes>"
      ]
     },
     "metadata": {
      "needs_background": "light"
     },
     "output_type": "display_data"
    }
   ],
   "source": [
    "#CNN\n",
    "import matplotlib.pyplot as plt\n",
    "plt.plot(history_CNN.history['acc'])\n",
    "plt.plot(history_CNN.history['val_acc'])\n",
    "plt.legend(['training', 'validation'], loc = 'upper left')\n",
    "plt.show()"
   ]
  },
  {
   "cell_type": "code",
   "execution_count": 221,
   "metadata": {},
   "outputs": [],
   "source": [
    "import re\n",
    "import sys\n",
    "import os\n",
    "from soynlp.normalizer import repeat_normalize\n",
    "\n",
    "\n",
    "class ModelToSentence:\n",
    "    def __init__(self, new_sentence):\n",
    "        preparedSentence = re.sub('[^ ^0-9ㄱ-ㅣ가-힣]+','', new_sentence)\n",
    "        preparedSentence = [repeat_normalize(new_sentence, num_repeats = 2)]\n",
    "        self.Data = ElectraDataset(preparedSentence, [1], 50)\n",
    "        self.sentenceToken = tokenizer.tokenize(preparedSentence[0])\n",
    "        \n",
    "    def getSentence(self):\n",
    "        return self.Data\n",
    "    \n",
    "    def getTokenizer(self):\n",
    "        return self.sentenceToken\n",
    "    \n",
    "    def getVector(self):\n",
    "        return self.Data.sentences\n",
    "    \n",
    "    def stshow(self):\n",
    "        count = 0\n",
    "        Sentence_struct = np.zeros([max_len, max_len])\n",
    "        for i in range(len(self.Data.sentences[0])):\n",
    "            value = (35000-self.Data.sentences[0][i])/ 35000 * 100\n",
    "            Sentence_struct[i][i] = value\n",
    "            \n",
    "        plt.rcParams['figure.figsize'] = (12, 6)\n",
    "        # 20개만 짤랐음\n",
    "        plt.xlim(0,50)\n",
    "        plt.imshow(Sentence_struct)\n",
    "    \n",
    "    def sentiment_predict(self):\n",
    "        score = float(loaded_model_CNN.predict(self.Data.sentences))\n",
    "        if(score > 0.5):\n",
    "            print(\"CNN : {:.2f}% 확률로 부정적 댓글입니다.\\n\".format(score * 100))\n",
    "            return format(score * 100* (-1))\n",
    "        else:\n",
    "            print(\"CNN : {:.2f}% 확률로 일반적 댓글입니다.\\n\".format((1 - score) * 100))\n",
    "            return format((1-score)*100)\n",
    "    "
   ]
  },
  {
   "cell_type": "code",
   "execution_count": 222,
   "metadata": {},
   "outputs": [
    {
     "name": "stdout",
     "output_type": "stream",
     "text": [
      "<__main__.ElectraDataset object at 0x7fc1a5be0890>\n",
      "Tokenizer Result :  ['왜', '이러', '##실', '##까요', '.', '.', 'ㅠㅠ'] \n",
      "\n",
      "Vetor Result     :  [[0, 0, 0, 0, 0, 0, 0, 0, 0, 0, 0, 0, 0, 0, 0, 0, 0, 0, 0, 0, 0, 0, 0, 0, 0, 0, 0, 0, 0, 0, 0, 0, 0, 0, 0, 0, 0, 0, 0, 0, 0, 0, 0, 3178, 6522, 4161, 10397, 18, 18, 8617]] \n",
      "\n",
      "CNN : 98.14% 확률로 일반적 댓글입니다.\n",
      "\n",
      "Model Predict    :  98.13847541809082\n",
      "----------------------------VecToImg----------------------------\n",
      "<__main__.ElectraDataset object at 0x7fc1a5be0490>\n",
      "Tokenizer Result :  ['쟤', '##는', '시작', '##한', '##지', '4', '##년', '##이나', '지났', '##는데', '아직', '##도', '상승', '##기', '##가', '없', '##어', '##ㅋㅋ', '고점', '##이', '없', '##어', '##서', '나락', '##은', '안', '##겪', '##어', '##서', '뒤져', '##라', 'ㅋ', '##발', '##ㅋ', '##시', '##ㅋㅋ', '##발'] \n",
      "\n",
      "Vetor Result     :  [[0, 0, 0, 0, 0, 0, 0, 0, 0, 0, 0, 0, 0, 3277, 4034, 6273, 4283, 4200, 24, 4556, 17482, 11951, 18781, 6545, 4086, 6738, 4031, 4070, 3123, 4025, 16780, 23985, 4007, 3123, 4025, 4129, 27656, 4112, 3081, 5816, 4025, 4129, 22229, 4118, 287, 4387, 4560, 4114, 16780, 4387]] \n",
      "\n",
      "CNN : 68.24% 확률로 부정적 댓글입니다.\n",
      "\n",
      "Model Predict    :  -68.24434399604797\n",
      "----------------------------VecToImg----------------------------\n"
     ]
    },
    {
     "data": {
      "image/png": "[encoded data removed]",
      "text/plain": [
       "<Figure size 864x432 with 1 Axes>"
      ]
     },
     "metadata": {
      "needs_background": "light"
     },
     "output_type": "display_data"
    },
    {
     "data": {
      "image/png": "[encoded data removed]",
      "text/plain": [
       "<Figure size 864x432 with 1 Axes>"
      ]
     },
     "metadata": {
      "needs_background": "light"
     },
     "output_type": "display_data"
    }
   ],
   "source": [
    "TempText = ModelToSentence('왜 이러실까요.. ㅠㅠㅠㅠㅠㅠ')\n",
    "print(TempText.getSentence())\n",
    "print(\"Tokenizer Result : \" , TempText.getTokenizer() , \"\\n\")\n",
    "print(\"Vetor Result     : \", TempText.getVector(), \"\\n\") # 1 -> PADDING\n",
    "print(\"Model Predict    : \", TempText.sentiment_predict())\n",
    "print(\"----------------------------VecToImg----------------------------\")\n",
    "plt.figure(1)\n",
    "TempText.stshow()\n",
    "\n",
    "TempText = ModelToSentence('쟤는 시작한지 4년이나 지났는데 아직도 상승기가 없어ㅋㅋ 고점이 없어서 나락은 안겪어서 뒤져라')\n",
    "print(TempText.getSentence())\n",
    "print(\"Tokenizer Result : \" , TempText.getTokenizer() , \"\\n\")\n",
    "print(\"Vetor Result     : \", TempText.getVector(), \"\\n\") # 1 -> PADDING\n",
    "print(\"Model Predict    : \", TempText.sentiment_predict())\n",
    "print(\"----------------------------VecToImg----------------------------\")\n",
    "plt.figure(2)\n",
    "TempText.stshow()\n",
    "\n",
    "\n"
   ]
  }
 ],
 "metadata": {
  "kernelspec": {
   "display_name": "LngPurifier",
   "language": "python",
   "name": "lngpurifier"
  },
  "language_info": {
   "codemirror_mode": {
    "name": "ipython",
    "version": 3
   },
   "file_extension": ".py",
   "mimetype": "text/x-python",
   "name": "python",
   "nbconvert_exporter": "python",
   "pygments_lexer": "ipython3",
   "version": "3.7.6"
  }
 },
 "nbformat": 4,
 "nbformat_minor": 4
}
