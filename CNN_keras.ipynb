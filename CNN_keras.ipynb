{
 "cells": [
  {
   "cell_type": "code",
   "execution_count": 1,
   "metadata": {},
   "outputs": [
    {
     "name": "stdout",
     "output_type": "stream",
     "text": [
      "using cached model\n",
      "using cached model\n",
      "using cached model\n"
     ]
    }
   ],
   "source": [
    "import gluonnlp as nlp\n",
    "from torch.utils.data import Dataset\n",
    "import numpy as np\n",
    "from kobert.utils import get_tokenizer\n",
    "from kobert.pytorch_kobert import get_pytorch_kobert_model\n",
    "from gluonnlp.data import SentencepieceTokenizer\n",
    "\n",
    "from tensorflow.keras.models import Sequential, Model\n",
    "from tensorflow.keras.layers import Embedding, Dropout, Conv1D, GlobalMaxPooling1D, Dense,Input, Flatten, Concatenate\n",
    "from tensorflow.keras.callbacks import EarlyStopping, ModelCheckpoint\n",
    "from tensorflow.keras.models import load_model\n",
    "\n",
    "\n",
    "bertmodel, vocab = get_pytorch_kobert_model()\n",
    "\n",
    "\n",
    "# train, test dataset 불러오기.\n",
    "dataset_train = nlp.data.TSVDataset('/Users/waterpurifier/Comment_train.txt',encoding='utf-8', field_indices=[2,3], num_discard_samples=1)\n",
    "dataset_test = nlp.data.TSVDataset('/Users/waterpurifier/Comment_test.txt',encoding='utf-8', field_indices=[2,3], num_discard_samples=1)\n",
    "\n",
    "token_path = get_tokenizer()\n",
    "tok = nlp.data.BERTSPTokenizer(token_path, vocab, lower=False)\n",
    "\n",
    "# BERTDataset\n",
    "class BERTDataset(Dataset):\n",
    "    def __init__(self, dataset, sent_idx, label_idx, bert_tokenizer, max_len, pad, pair):\n",
    "\n",
    "        transform = nlp.data.BERTSentenceTransform(bert_tokenizer, max_seq_length=max_len, pad=pad, pair=pair)\n",
    "        #self.adsf = transform(dataset)[0]\n",
    "        #print(self.adsf[0])\n",
    "        self.sentences = [transform([i[sent_idx]]) for i in dataset]\n",
    "        self.labels = [np.int32(i[label_idx]) for i in dataset]\n",
    "        \n",
    "        # 기존의 방식에서 model에 적용할 때 data type이 안맞아서 <list> (int) 로 맞췄음.\n",
    "        self.sentences = [i[0].tolist() for i in self.sentences]\n",
    "        self.labels = [i.tolist() for i in self.labels]\n",
    "        \n",
    "    def __getitem__(self, i):\n",
    "        return (self.sentences[i] + (self.labels[i], ))\n",
    "    \n",
    "    def __len__(self):\n",
    "        return (len(self.labels))\n",
    "    \n",
    "\n",
    "max_len = 50\n",
    "vocab_size = len(vocab)\n",
    "\n",
    "data_train = BERTDataset(dataset_train, 0, 1, tok, max_len, True, False)\n",
    "data_test = BERTDataset(dataset_test, 0, 1, tok, max_len, True, False)"
   ]
  },
  {
   "cell_type": "code",
   "execution_count": 3,
   "metadata": {},
   "outputs": [],
   "source": [
    "embedding_dim = 64\n",
    "dropout_prob = (0.5, 0.8)\n",
    "num_filters = 32\n",
    "\n",
    "model_input = Input(shape = (max_len,))\n",
    "z = Embedding(vocab_size, embedding_dim, input_length = max_len, name=\"embedding\")(model_input)\n",
    "z = Dropout(dropout_prob[0])(z)\n",
    "\n",
    "conv_blocks = []\n",
    "\n",
    "for sz in [3, 4, 5]:\n",
    "    conv = Conv1D(filters = num_filters,\n",
    "                  kernel_size = sz,\n",
    "                  padding = \"valid\",\n",
    "                  activation = \"relu\", \n",
    "                  strides = 1)(z)\n",
    "    conv = GlobalMaxPooling1D()(conv)\n",
    "    conv = Flatten()(conv)\n",
    "    conv_blocks.append(conv)\n",
    "    \n",
    "z = Concatenate()(conv_blocks) if len(conv_blocks) > 1 else conv_blocks[0]\n",
    "z = Dropout(dropout_prob[1])(z)\n",
    "z = Dense(128, activation=\"relu\")(z)\n",
    "model_output = Dense(1, activation=\"sigmoid\")(z) # , activation=\"softmax\"\n",
    "model = Model(model_input, model_output)"
   ]
  },
  {
   "cell_type": "code",
   "execution_count": 4,
   "metadata": {},
   "outputs": [
    {
     "name": "stdout",
     "output_type": "stream",
     "text": [
      "Epoch 1/5\n",
      "\n",
      "Epoch 00001: val_acc improved from -inf to 0.88128, saving model to /Users/waterpurifier/CNN_model224.h5\n",
      "441/441 - 7s - loss: 0.4958 - acc: 0.7709 - val_loss: 0.3321 - val_acc: 0.8813\n",
      "Epoch 2/5\n",
      "\n",
      "Epoch 00002: val_acc improved from 0.88128 to 0.88739, saving model to /Users/waterpurifier/CNN_model224.h5\n",
      "441/441 - 6s - loss: 0.3397 - acc: 0.8671 - val_loss: 0.3035 - val_acc: 0.8874\n",
      "Epoch 3/5\n",
      "\n",
      "Epoch 00003: val_acc improved from 0.88739 to 0.89279, saving model to /Users/waterpurifier/CNN_model224.h5\n",
      "441/441 - 6s - loss: 0.3087 - acc: 0.8802 - val_loss: 0.2994 - val_acc: 0.8928\n",
      "Epoch 4/5\n",
      "\n",
      "Epoch 00004: val_acc improved from 0.89279 to 0.89350, saving model to /Users/waterpurifier/CNN_model224.h5\n",
      "441/441 - 6s - loss: 0.2856 - acc: 0.8891 - val_loss: 0.2890 - val_acc: 0.8935\n",
      "Epoch 5/5\n",
      "\n",
      "Epoch 00005: val_acc did not improve from 0.89350\n",
      "441/441 - 6s - loss: 0.2662 - acc: 0.8984 - val_loss: 0.2897 - val_acc: 0.8928\n"
     ]
    }
   ],
   "source": [
    "model.compile(loss=\"binary_crossentropy\", optimizer=\"adam\", metrics=[\"acc\"]) \n",
    "\n",
    "es = EarlyStopping(monitor='val_loss', mode='min', verbose=1, patience=4)\n",
    "mc = ModelCheckpoint('/Users/waterpurifier/CNN.h5', monitor='val_acc', mode='max', verbose=1, save_best_only=True)\n",
    "\n",
    "history_CNN = model.fit(data_train.sentences, data_train.labels, batch_size = 64, epochs=5, validation_data = (data_test.sentences, data_test.labels), verbose=2, callbacks=[es, mc])"
   ]
  },
  {
   "cell_type": "code",
   "execution_count": 5,
   "metadata": {},
   "outputs": [
    {
     "name": "stdout",
     "output_type": "stream",
     "text": [
      "221/221 [==============================] - 0s 1ms/step - loss: 0.2897 - acc: 0.8928\n",
      "\n",
      " 테스트 정확도 : 0.8928\n"
     ]
    }
   ],
   "source": [
    "model.save('/Users/waterpurifier/CNN.h5')\n",
    "loaded_model_CNN = load_model('/Users/waterpurifier/CNN.h5')\n",
    "print('\\n 테스트 정확도 : %.4f' %(loaded_model_CNN.evaluate(data_test.sentences, data_test.labels)[1]))"
   ]
  },
  {
   "cell_type": "code",
   "execution_count": 7,
   "metadata": {},
   "outputs": [
    {
     "data": {
      "image/png": "[encoded data removed]",
      "text/plain": [
       "<Figure size 432x288 with 1 Axes>"
      ]
     },
     "metadata": {
      "needs_background": "light"
     },
     "output_type": "display_data"
    }
   ],
   "source": [
    "#CNN\n",
    "import matplotlib.pyplot as plt\n",
    "plt.plot(history_CNN.history['acc'])\n",
    "plt.plot(history_CNN.history['val_acc'])\n",
    "plt.legend(['training', 'validation'], loc = 'upper left')\n",
    "plt.show()"
   ]
  },
  {
   "cell_type": "code",
   "execution_count": 46,
   "metadata": {},
   "outputs": [],
   "source": [
    "class ModelToSentence:\n",
    "    def __init__(self, new_sentence):\n",
    "        self.DataFormat = []\n",
    "        Data = []\n",
    "        Data.append(new_sentence)\n",
    "        Data.append(1)\n",
    "        self.DataFormat.append(Data)\n",
    "        token_path = get_tokenizer()\n",
    "        sp = SentencepieceTokenizer(token_path)\n",
    "        self.sentenceToken = sp(self.DataFormat[0][0])\n",
    "            \n",
    "    def getSentence(self):\n",
    "        return self.DataFormat\n",
    "    \n",
    "    def getTokenizer(self):\n",
    "        return self.sentenceToken\n",
    "    \n",
    "    def getVector(self):\n",
    "        self.sentence = BERTDataset(self.DataFormat, 0,1, tok, max_len, True, False)\n",
    "        return self.sentence.sentences\n",
    "    \n",
    "    def stshow(self):\n",
    "        count = 0\n",
    "        Sentence_struct = np.zeros([1, max_len])\n",
    "        for i in range(len(self.sentence.sentences[0])):\n",
    "            value = self.sentence.sentences[0][i] / 2 + 0.5\n",
    "            Sentence_struct[0][i] = value\n",
    "            \n",
    "        plt.rcParams['figure.figsize'] = (12, 6)\n",
    "        # 20개만 짤랐음\n",
    "        plt.xlim(0,20)\n",
    "        plt.imshow(Sentence_struct)\n",
    "    \n",
    "    def sentiment_predict(self):\n",
    "        sentence = BERTDataset(self.DataFormat, 0,1, tok, max_len, True, False)\n",
    "        score = float(loaded_model_CNN.predict(sentence.sentences))\n",
    "        if(score > 0.5):\n",
    "            print(\"CNN : {:.2f}% 확률로 부정적 댓글입니다.\\n\".format(score * 100))\n",
    "            return format(score * 100* (-1))\n",
    "        else:\n",
    "            print(\"CNN : {:.2f}% 확률로 일반적 댓글입니다.\\n\".format((1 - score) * 100))\n",
    "            return format((1-score)*100)\n",
    "    "
   ]
  },
  {
   "cell_type": "code",
   "execution_count": 51,
   "metadata": {},
   "outputs": [
    {
     "name": "stdout",
     "output_type": "stream",
     "text": [
      "using cached model\n",
      "[['왜 이러실까요.. ㅠㅠ', 1]]\n",
      "Tokenizer Result :  ['▁왜', '▁이', '러', '실', '까', '요', '.', '.', '▁', 'ᅲᅲ'] \n",
      "\n",
      "Vetor Result     :  [[2, 3466, 3647, 6037, 6738, 5591, 6999, 517, 54, 517, 54, 517, 0, 3, 1, 1, 1, 1, 1, 1, 1, 1, 1, 1, 1, 1, 1, 1, 1, 1, 1, 1, 1, 1, 1, 1, 1, 1, 1, 1, 1, 1, 1, 1, 1, 1, 1, 1, 1, 1]] \n",
      "\n",
      "CNN : 91.47% 확률로 일반적 댓글입니다.\n",
      "\n",
      "Model Predict    :  91.47071242332458\n",
      "----------------------------VecToImg----------------------------\n",
      "using cached model\n",
      "[['쟤는 시작한지 4년이나 지났는데 아직도 상승기가 없어ㅋㅋ 고점이 없어서 나락은 안겪어서 좋네 ㅋㅋㅋ병신ㅋ', 1]]\n",
      "Tokenizer Result :  ['▁', '쟤', '는', '▁시작한', '지', '▁4', '년', '이나', '▁지', '났', '는데', '▁아직', '도', '▁상승', '기가', '▁없어', 'ᄏ', 'ᄏ', '▁고', '점이', '▁없어', '서', '▁나', '락', '은', '▁안', '겪', '어', '서', '▁좋', '네', '▁', 'ᄏ', 'ᄏ', 'ᄏ', '병', '신', 'ᄏ'] \n",
      "\n",
      "Vetor Result     :  [[2, 517, 0, 5760, 2989, 7318, 605, 5712, 7098, 4297, 5671, 5761, 3129, 5859, 2670, 5562, 3278, 492, 492, 993, 7224, 3278, 6553, 1370, 6015, 7086, 3135, 5413, 6855, 6553, 4204, 5702, 517, 492, 492, 492, 6361, 6733, 492, 3, 1, 1, 1, 1, 1, 1, 1, 1, 1, 1]] \n",
      "\n",
      "CNN : 56.76% 확률로 부정적 댓글입니다.\n",
      "\n",
      "Model Predict    :  -56.757938861846924\n",
      "----------------------------VecToImg----------------------------\n"
     ]
    },
    {
     "data": {
      "image/png": "[encoded data removed]",
      "text/plain": [
       "<Figure size 864x432 with 1 Axes>"
      ]
     },
     "metadata": {
      "needs_background": "light"
     },
     "output_type": "display_data"
    },
    {
     "data": {
      "image/png": "[encoded data removed]",
      "text/plain": [
       "<Figure size 864x432 with 1 Axes>"
      ]
     },
     "metadata": {
      "needs_background": "light"
     },
     "output_type": "display_data"
    }
   ],
   "source": [
    "TempText = ModelToSentence('왜 이러실까요.. ㅠㅠ')\n",
    "print(TempText.getSentence())\n",
    "print(\"Tokenizer Result : \" , TempText.getTokenizer() , \"\\n\")\n",
    "print(\"Vetor Result     : \", TempText.getVector(), \"\\n\") # 1 -> PADDING\n",
    "print(\"Model Predict    : \", TempText.sentiment_predict())\n",
    "print(\"----------------------------VecToImg----------------------------\")\n",
    "plt.figure(1)\n",
    "TempText.stshow()\n",
    "\n",
    "TempText = ModelToSentence('쟤는 시작한지 4년이나 지났는데 아직도 상승기가 없어ㅋㅋ 고점이 없어서 나락은 안겪어서 좋네 ㅋㅋㅋ병신ㅋ')\n",
    "print(TempText.getSentence())\n",
    "print(\"Tokenizer Result : \" , TempText.getTokenizer() , \"\\n\")\n",
    "print(\"Vetor Result     : \", TempText.getVector(), \"\\n\") # 1 -> PADDING\n",
    "print(\"Model Predict    : \", TempText.sentiment_predict())\n",
    "print(\"----------------------------VecToImg----------------------------\")\n",
    "plt.figure(2)\n",
    "TempText.stshow()\n",
    "\n",
    "\n"
   ]
  }
 ],
 "metadata": {
  "kernelspec": {
   "display_name": "LngPurifier",
   "language": "python",
   "name": "lngpurifier"
  },
  "language_info": {
   "codemirror_mode": {
    "name": "ipython",
    "version": 3
   },
   "file_extension": ".py",
   "mimetype": "text/x-python",
   "name": "python",
   "nbconvert_exporter": "python",
   "pygments_lexer": "ipython3",
   "version": "3.7.6"
  }
 },
 "nbformat": 4,
 "nbformat_minor": 4
}
